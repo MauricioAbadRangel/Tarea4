{
  "nbformat": 4,
  "nbformat_minor": 0,
  "metadata": {
    "colab": {
      "name": "Tarea4.ipynb",
      "provenance": [],
      "authorship_tag": "ABX9TyNwaFHHIQ2P98OgmZXQCUeR",
      "include_colab_link": true
    },
    "kernelspec": {
      "name": "python3",
      "display_name": "Python 3"
    },
    "language_info": {
      "name": "python"
    }
  },
  "cells": [
    {
      "cell_type": "markdown",
      "metadata": {
        "id": "view-in-github",
        "colab_type": "text"
      },
      "source": [
        "<a href=\"https://colab.research.google.com/github/MauricioAbadRangel/Tarea4/blob/main/Tarea4.ipynb\" target=\"_parent\"><img src=\"https://colab.research.google.com/assets/colab-badge.svg\" alt=\"Open In Colab\"/></a>"
      ]
    },
    {
      "cell_type": "code",
      "metadata": {
        "colab": {
          "base_uri": "https://localhost:8080/"
        },
        "id": "ksJjDEpCx4y_",
        "outputId": "c7735637-c807-455a-958f-50dfb002249a"
      },
      "source": [
        "print(\"M     M \\nM M M M\\nM  M  M\\nM     M\" )#M\n",
        "print(\" \")\n",
        "print(\"   M   \\n M   M\\nM MM  M\\nM     M\")#A\n",
        "print(\" \")\n",
        "print(\"M     M\\nM     M\\nM     M\\nMMMMMMM\")#U\n",
        "print(\" \")\n",
        "print(\"M M M M\\nM     M\\nM M M \\nM      M\")#R\n",
        "print(\" \")\n",
        "print(\"   M   \\n   M   \\n   M   \\n   M   \")#I\n",
        "print(\" \")\n",
        "print(\"M M M M M\\nM\\nM\\nM M M M M\")#c\n",
        "print(\" \")\n",
        "print(\"   M   \\n   M   \\n   M   \\n   M   \")#I\n",
        "print(\" \")\n",
        "print(\"M M M M \\nM     M\\nM     M\\nMMMMMMM\")#O"
      ],
      "execution_count": 99,
      "outputs": [
        {
          "output_type": "stream",
          "name": "stdout",
          "text": [
            "M     M \n",
            "M M M M\n",
            "M  M  M\n",
            "M     M\n",
            " \n",
            "   M   \n",
            " M   M\n",
            "M MM  M\n",
            "M     M\n",
            " \n",
            "M     M\n",
            "M     M\n",
            "M     M\n",
            "MMMMMMM\n",
            " \n",
            "M M M M\n",
            "M     M\n",
            "M M M \n",
            "M      M\n",
            " \n",
            "   M   \n",
            "   M   \n",
            "   M   \n",
            "   M   \n",
            " \n",
            "M M M M M\n",
            "M\n",
            "M\n",
            "M M M M M\n",
            " \n",
            "   M   \n",
            "   M   \n",
            "   M   \n",
            "   M   \n",
            " \n",
            "M M M M \n",
            "M     M\n",
            "M     M\n",
            "MMMMMMM\n"
          ]
        }
      ]
    }
  ]
}